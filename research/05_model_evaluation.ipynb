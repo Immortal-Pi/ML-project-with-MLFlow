{
 "cells": [
  {
   "cell_type": "code",
   "execution_count": 1,
   "metadata": {},
   "outputs": [],
   "source": [
    "import os "
   ]
  },
  {
   "cell_type": "code",
   "execution_count": 2,
   "metadata": {},
   "outputs": [
    {
     "data": {
      "text/plain": [
       "'d:\\\\pythonProjects\\\\MLflow_ML_project\\\\research'"
      ]
     },
     "execution_count": 2,
     "metadata": {},
     "output_type": "execute_result"
    }
   ],
   "source": [
    "%pwd"
   ]
  },
  {
   "cell_type": "code",
   "execution_count": 3,
   "metadata": {},
   "outputs": [
    {
     "data": {
      "text/plain": [
       "'d:\\\\pythonProjects\\\\MLflow_ML_project'"
      ]
     },
     "execution_count": 3,
     "metadata": {},
     "output_type": "execute_result"
    }
   ],
   "source": [
    "os.chdir('../')\n",
    "%pwd "
   ]
  },
  {
   "cell_type": "code",
   "execution_count": 4,
   "metadata": {},
   "outputs": [],
   "source": [
    "# entity \n",
    "from dataclasses import dataclass\n",
    "from pathlib import Path\n",
    "\n",
    "@dataclass(frozen=True)\n",
    "class ModelEvaluationConfig:\n",
    "    root_dir: Path \n",
    "    test_data_path: Path \n",
    "    model_path: Path \n",
    "    all_params: dict \n",
    "    metric_file_name: Path \n",
    "    target_column: str \n",
    "    repo_owner: str \n",
    "    repo_name : str \n"
   ]
  },
  {
   "cell_type": "code",
   "execution_count": 8,
   "metadata": {},
   "outputs": [],
   "source": [
    "# config \n",
    "from mlProject.constants import * \n",
    "from mlProject.utils.common import read_yaml, create_directories, save_json\n",
    "class ConfigurationManager:\n",
    "    def __init__(\n",
    "            self,\n",
    "            config_filepath= CONFIG_FILE_PATH,\n",
    "            params_filepath= PARAMS_FILE_PATH,\n",
    "            schema_filepath= SCHEMA_FILE_PATH\n",
    "                 ):\n",
    "        self.config=read_yaml(config_filepath)\n",
    "        self.params=read_yaml(params_filepath)\n",
    "        self.schema=read_yaml(schema_filepath)\n",
    "        create_directories([self.config.artifacts_root])\n",
    "\n",
    "    def get_model_evaluation_config(self)->ModelEvaluationConfig:\n",
    "        config=self.config.model_evalution\n",
    "        params=self.params.ElasticNet\n",
    "        schema=self.schema.TARGET_COLUMN\n",
    "        mlflow_tracking=self.config.mlflow_tracking\n",
    "        create_directories([config.root_dir])\n",
    "\n",
    "        model_evalution_config=ModelEvaluationConfig(\n",
    "            root_dir=config.root_dir, \n",
    "            test_data_path=config.test_data_path,\n",
    "            model_path=config.model_path,\n",
    "            all_params=params,\n",
    "            metric_file_name= config.metric_file_name,\n",
    "            target_column= schema.name, \n",
    "            repo_owner= mlflow_tracking.repo_owner, \n",
    "            repo_name = mlflow_tracking.repo_name\n",
    "        )\n",
    "\n",
    "        return model_evalution_config\n",
    "\n"
   ]
  },
  {
   "cell_type": "code",
   "execution_count": 16,
   "metadata": {},
   "outputs": [],
   "source": [
    "# components \n",
    "import os \n",
    "import pandas as pd \n",
    "from sklearn.metrics import mean_absolute_error,mean_squared_error, r2_score\n",
    "from urllib.parse import urlparse\n",
    "import mlflow\n",
    "import mlflow.sklearn\n",
    "import numpy as np\n",
    "import joblib\n",
    "import dagshub \n",
    "\n",
    "class ModelEvaluation:\n",
    "    def __init__(self, config: ModelEvaluationConfig):\n",
    "        self.config=config\n",
    "\n",
    "    def eval_metrics(self,actual,pred):\n",
    "        rmse=np.sqrt(mean_squared_error(actual,pred))\n",
    "        mae=mean_squared_error(actual,pred)\n",
    "        r2=r2_score(actual,pred)\n",
    "        return rmse,mae,r2 \n",
    "    \n",
    "    def log_into_mlflow(self):\n",
    "        test_data=pd.read_csv(self.config.test_data_path)\n",
    "        model=joblib.load(self.config.model_path)\n",
    "\n",
    "        test_x=test_data.drop([self.config.target_column],axis=1)\n",
    "        test_y=test_data[[self.config.target_column]]\n",
    "\n",
    "        dagshub.init(repo_name=self.config.repo_name, repo_owner=self.config.repo_owner, mlflow=True)\n",
    "        tracking_uri_type_store=urlparse(mlflow.get_registry_uri()).scheme\n",
    "\n",
    "        with mlflow.start_run():\n",
    "            predicted_qualities=model.predict(test_x)\n",
    "            (rmse,mae,r2)=self.eval_metrics(test_y,predicted_qualities)\n",
    "\n",
    "            #saving metrics as local \n",
    "            scores= {'rmse': rmse,'r2_score':r2,'mae':mae}\n",
    "            save_json(path=Path(self.config.metric_file_name),data=scores)\n",
    "\n",
    "            mlflow.log_params(self.config.all_params)\n",
    "            mlflow.log_metrics(scores)\n",
    "            \n",
    "            if tracking_uri_type_store!='file':\n",
    "                # register the model\n",
    "                mlflow.sklearn.log_model(model,'model',registered_model_name='ElasticnetModel')\n",
    "            else:\n",
    "                mlflow.sklearn.log_model(model,'model')\n",
    "\n",
    "\n"
   ]
  },
  {
   "cell_type": "code",
   "execution_count": 18,
   "metadata": {},
   "outputs": [
    {
     "name": "stdout",
     "output_type": "stream",
     "text": [
      "[2025-01-05 07:14:00,722: INFO:common: yaml file: config\\config.yaml loaded successfully]\n",
      "[2025-01-05 07:14:00,725: INFO:common: yaml file: params.yaml loaded successfully]\n",
      "[2025-01-05 07:14:00,728: INFO:common: yaml file: schema.yaml loaded successfully]\n",
      "[2025-01-05 07:14:00,731: INFO:common: created directory at: artifacts]\n",
      "[2025-01-05 07:14:00,733: INFO:common: created directory at: artifacts/model_evaluation]\n",
      "[2025-01-05 07:14:01,331: INFO:_client: HTTP Request: GET https://dagshub.com/api/v1/repos/Immortal-Pi/ML-project-with-MLFlow \"HTTP/1.1 200 OK\"]\n"
     ]
    },
    {
     "data": {
      "text/html": [
       "<pre style=\"white-space:pre;overflow-x:auto;line-height:normal;font-family:Menlo,'DejaVu Sans Mono',consolas,'Courier New',monospace\">Initialized MLflow to track repo <span style=\"color: #008000; text-decoration-color: #008000\">\"Immortal-Pi/ML-project-with-MLFlow\"</span>\n",
       "</pre>\n"
      ],
      "text/plain": [
       "Initialized MLflow to track repo \u001b[32m\"Immortal-Pi/ML-project-with-MLFlow\"\u001b[0m\n"
      ]
     },
     "metadata": {},
     "output_type": "display_data"
    },
    {
     "name": "stdout",
     "output_type": "stream",
     "text": [
      "[2025-01-05 07:14:01,343: INFO:helpers: Initialized MLflow to track repo \"Immortal-Pi/ML-project-with-MLFlow\"]\n"
     ]
    },
    {
     "data": {
      "text/html": [
       "<pre style=\"white-space:pre;overflow-x:auto;line-height:normal;font-family:Menlo,'DejaVu Sans Mono',consolas,'Courier New',monospace\">Repository Immortal-Pi/ML-project-with-MLFlow initialized!\n",
       "</pre>\n"
      ],
      "text/plain": [
       "Repository Immortal-Pi/ML-project-with-MLFlow initialized!\n"
      ]
     },
     "metadata": {},
     "output_type": "display_data"
    },
    {
     "name": "stdout",
     "output_type": "stream",
     "text": [
      "[2025-01-05 07:14:01,351: INFO:helpers: Repository Immortal-Pi/ML-project-with-MLFlow initialized!]\n",
      "[2025-01-05 07:14:01,498: INFO:common: json file saved at: artifacts\\model_evaluation\\metrics.json]\n"
     ]
    },
    {
     "name": "stderr",
     "output_type": "stream",
     "text": [
      "Registered model 'ElasticnetModel' already exists. Creating a new version of this model...\n",
      "2025/01/05 07:14:10 INFO mlflow.tracking._model_registry.client: Waiting up to 300 seconds for model version to finish creation.                     Model name: ElasticnetModel, version 2\n",
      "Created version '2' of model 'ElasticnetModel'.\n"
     ]
    }
   ],
   "source": [
    "# pipeline \n",
    "try:\n",
    "    config=ConfigurationManager()\n",
    "    model_evalution_config=config.get_model_evaluation_config()\n",
    "    model_evalution=ModelEvaluation(config=model_evalution_config)\n",
    "    model_evalution.log_into_mlflow()\n",
    "except Exception as e:\n",
    "    raise e \n"
   ]
  },
  {
   "cell_type": "code",
   "execution_count": null,
   "metadata": {},
   "outputs": [],
   "source": []
  }
 ],
 "metadata": {
  "kernelspec": {
   "display_name": "mlopsML",
   "language": "python",
   "name": "python3"
  },
  "language_info": {
   "codemirror_mode": {
    "name": "ipython",
    "version": 3
   },
   "file_extension": ".py",
   "mimetype": "text/x-python",
   "name": "python",
   "nbconvert_exporter": "python",
   "pygments_lexer": "ipython3",
   "version": "3.10.16"
  }
 },
 "nbformat": 4,
 "nbformat_minor": 2
}
